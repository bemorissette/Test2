{
 "cells": [
  {
   "cell_type": "code",
   "execution_count": null,
   "id": "3028e0a7",
   "metadata": {
    "vscode": {
     "languageId": "plaintext"
    }
   },
   "outputs": [],
   "source": [
    "pip install label-studio"
   ]
  },
  {
   "cell_type": "code",
   "execution_count": null,
   "id": "ce79749f",
   "metadata": {
    "vscode": {
     "languageId": "plaintext"
    }
   },
   "outputs": [],
   "source": []
  }
 ],
 "metadata": {
  "language_info": {
   "name": "python"
  }
 },
 "nbformat": 4,
 "nbformat_minor": 5
}
