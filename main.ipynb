{
 "cells": [
  {
   "cell_type": "code",
   "execution_count": 7,
   "id": "3028e0a7",
   "metadata": {},
   "outputs": [
    {
     "name": "stdout",
     "output_type": "stream",
     "text": [
      "Defaulting to user installation because normal site-packages is not writeable\n",
      "Requirement already satisfied: label-studio in /home/vscode/.local/lib/python3.11/site-packages (1.20.0)\n",
      "Requirement already satisfied: Django<5.2.0,>=5.1.8 in /home/vscode/.local/lib/python3.11/site-packages (from label-studio) (5.1.12)\n",
      "Requirement already satisfied: appdirs>=1.4.3 in /home/vscode/.local/lib/python3.11/site-packages (from label-studio) (1.4.4)\n",
      "Requirement already satisfied: attr==0.3.1 in /home/vscode/.local/lib/python3.11/site-packages (from label-studio) (0.3.1)\n",
      "Requirement already satisfied: attrs>=19.2.0 in /home/vscode/.local/lib/python3.11/site-packages (from label-studio) (25.3.0)\n",
      "Requirement already satisfied: azure-storage-blob>=12.6.0 in /home/vscode/.local/lib/python3.11/site-packages (from label-studio) (12.26.0)\n",
      "Requirement already satisfied: bleach<5.1.0,>=5.0.0 in /home/vscode/.local/lib/python3.11/site-packages (from label-studio) (5.0.1)\n",
      "Requirement already satisfied: boto<3.0.0,>=2.49.0 in /home/vscode/.local/lib/python3.11/site-packages (from label-studio) (2.49.0)\n",
      "Requirement already satisfied: boto3<2.0.0,>=1.28.58 in /home/vscode/.local/lib/python3.11/site-packages (from label-studio) (1.40.35)\n",
      "Requirement already satisfied: botocore<2.0.0,>=1.31.58 in /home/vscode/.local/lib/python3.11/site-packages (from label-studio) (1.40.35)\n",
      "Requirement already satisfied: colorama>=0.4.4 in /home/vscode/.local/lib/python3.11/site-packages (from label-studio) (0.4.6)\n",
      "Requirement already satisfied: cryptography>=44.0.1 in /home/vscode/.local/lib/python3.11/site-packages (from label-studio) (46.0.1)\n",
      "Requirement already satisfied: defusedxml>=0.7.1 in /home/vscode/.local/lib/python3.11/site-packages (from label-studio) (0.7.1)\n",
      "Requirement already satisfied: django-annoying==0.10.6 in /home/vscode/.local/lib/python3.11/site-packages (from label-studio) (0.10.6)\n",
      "Requirement already satisfied: django-cors-headers==4.7.0 in /home/vscode/.local/lib/python3.11/site-packages (from label-studio) (4.7.0)\n",
      "Requirement already satisfied: django-csp==3.7 in /home/vscode/.local/lib/python3.11/site-packages (from label-studio) (3.7)\n",
      "Requirement already satisfied: django-debug-toolbar==3.2.1 in /home/vscode/.local/lib/python3.11/site-packages (from label-studio) (3.2.1)\n",
      "Requirement already satisfied: django-environ==0.10.0 in /home/vscode/.local/lib/python3.11/site-packages (from label-studio) (0.10.0)\n",
      "Requirement already satisfied: django-extensions==3.2.3 in /home/vscode/.local/lib/python3.11/site-packages (from label-studio) (3.2.3)\n",
      "Requirement already satisfied: django-filter==24.3 in /home/vscode/.local/lib/python3.11/site-packages (from label-studio) (24.3)\n",
      "Requirement already satisfied: django-migration-linter<6.0.0,>=5.1.0 in /home/vscode/.local/lib/python3.11/site-packages (from label-studio) (5.2.0)\n",
      "Requirement already satisfied: django-model-utils==4.1.1 in /home/vscode/.local/lib/python3.11/site-packages (from label-studio) (4.1.1)\n",
      "Requirement already satisfied: django-ranged-fileresponse>=0.1.2 in /home/vscode/.local/lib/python3.11/site-packages (from label-studio) (0.1.2)\n",
      "Requirement already satisfied: django-rq<3.0.0,>=2.10.2 in /home/vscode/.local/lib/python3.11/site-packages (from label-studio) (2.10.3)\n",
      "Requirement already satisfied: django-storages==1.12.3 in /home/vscode/.local/lib/python3.11/site-packages (from label-studio) (1.12.3)\n",
      "Requirement already satisfied: django-user-agents==0.4.0 in /home/vscode/.local/lib/python3.11/site-packages (from label-studio) (0.4.0)\n",
      "Requirement already satisfied: djangorestframework==3.15.2 in /home/vscode/.local/lib/python3.11/site-packages (from label-studio) (3.15.2)\n",
      "Requirement already satisfied: djangorestframework-simplejwt<6.0.0,>=5.4.0 in /home/vscode/.local/lib/python3.11/site-packages (from djangorestframework-simplejwt[crypto]<6.0.0,>=5.4.0->label-studio) (5.5.1)\n",
      "Requirement already satisfied: drf-dynamic-fields==0.3.0 in /home/vscode/.local/lib/python3.11/site-packages (from label-studio) (0.3.0)\n",
      "Requirement already satisfied: drf-flex-fields==0.9.5 in /home/vscode/.local/lib/python3.11/site-packages (from label-studio) (0.9.5)\n",
      "Requirement already satisfied: drf-generators==0.3.0 in /home/vscode/.local/lib/python3.11/site-packages (from label-studio) (0.3.0)\n",
      "Requirement already satisfied: google-cloud-logging<4.0.0,>=3.10.0 in /home/vscode/.local/lib/python3.11/site-packages (from label-studio) (3.12.1)\n",
      "Requirement already satisfied: google-cloud-storage<3.0.0,>=2.13.0 in /home/vscode/.local/lib/python3.11/site-packages (from label-studio) (2.19.0)\n",
      "Requirement already satisfied: humansignal-drf-yasg>=1.21.10.post1 in /home/vscode/.local/lib/python3.11/site-packages (from label-studio) (1.21.10.post1)\n",
      "Requirement already satisfied: label-studio-sdk==1.0.18 in /home/vscode/.local/lib/python3.11/site-packages (from label-studio) (1.0.18)\n",
      "Requirement already satisfied: launchdarkly-server-sdk==8.2.1 in /home/vscode/.local/lib/python3.11/site-packages (from label-studio) (8.2.1)\n",
      "Requirement already satisfied: lockfile>=0.12.0 in /home/vscode/.local/lib/python3.11/site-packages (from label-studio) (0.12.2)\n",
      "Requirement already satisfied: lxml>=4.9.4 in /home/vscode/.local/lib/python3.11/site-packages (from lxml[html-clean]>=4.9.4->label-studio) (6.0.2)\n",
      "Requirement already satisfied: numpy<2.0.0,>=1.26.4 in /home/vscode/.local/lib/python3.11/site-packages (from label-studio) (1.26.4)\n",
      "Requirement already satisfied: openai<2.0.0,>=1.10.0 in /home/vscode/.local/lib/python3.11/site-packages (from label-studio) (1.108.1)\n",
      "Requirement already satisfied: ordered-set==4.0.2 in /home/vscode/.local/lib/python3.11/site-packages (from label-studio) (4.0.2)\n",
      "Requirement already satisfied: pandas>=2.2.3 in /home/vscode/.local/lib/python3.11/site-packages (from label-studio) (2.3.2)\n",
      "Requirement already satisfied: psycopg2-binary==2.9.10 in /home/vscode/.local/lib/python3.11/site-packages (from label-studio) (2.9.10)\n",
      "Requirement already satisfied: pyarrow<19.0.0,>=18.1.0 in /home/vscode/.local/lib/python3.11/site-packages (from label-studio) (18.1.0)\n",
      "Requirement already satisfied: pyboxen>=1.3.0 in /home/vscode/.local/lib/python3.11/site-packages (from label-studio) (1.3.0)\n",
      "Requirement already satisfied: pydantic>=2.9.2 in /home/vscode/.local/lib/python3.11/site-packages (from label-studio) (2.11.9)\n",
      "Requirement already satisfied: python-dateutil>=2.8.1 in /home/vscode/.local/lib/python3.11/site-packages (from label-studio) (2.9.0.post0)\n",
      "Requirement already satisfied: python-json-logger==2.0.4 in /home/vscode/.local/lib/python3.11/site-packages (from label-studio) (2.0.4)\n",
      "Requirement already satisfied: pytz<2023.0,>=2022.1 in /home/vscode/.local/lib/python3.11/site-packages (from label-studio) (2022.7.1)\n",
      "Requirement already satisfied: pyyaml>=6.0.0 in /home/vscode/.local/lib/python3.11/site-packages (from label-studio) (6.0.2)\n",
      "Requirement already satisfied: redis<5.3.0,>=5.2.1 in /home/vscode/.local/lib/python3.11/site-packages (from label-studio) (5.2.1)\n",
      "Requirement already satisfied: requests<2.33.0,>=2.32.3 in /home/vscode/.local/lib/python3.11/site-packages (from label-studio) (2.32.5)\n",
      "Requirement already satisfied: rq<2.0.0,>=1.16.2 in /home/vscode/.local/lib/python3.11/site-packages (from label-studio) (1.16.2)\n",
      "Requirement already satisfied: rules==3.4 in /home/vscode/.local/lib/python3.11/site-packages (from label-studio) (3.4)\n",
      "Requirement already satisfied: sentry-sdk>=2.16.0 in /home/vscode/.local/lib/python3.11/site-packages (from label-studio) (2.38.0)\n",
      "Requirement already satisfied: setuptools>=75.4.0 in /usr/local/lib/python3.11/site-packages (from label-studio) (78.1.1)\n",
      "Requirement already satisfied: tldextract>=5.1.3 in /home/vscode/.local/lib/python3.11/site-packages (from label-studio) (5.3.0)\n",
      "Requirement already satisfied: ujson>=3.0.0 in /home/vscode/.local/lib/python3.11/site-packages (from label-studio) (5.11.0)\n",
      "Requirement already satisfied: urllib3<2.0.0,>=1.26.18 in /home/vscode/.local/lib/python3.11/site-packages (from label-studio) (1.26.20)\n",
      "Requirement already satisfied: wheel<=0.40.0,>=0.38.1 in /home/vscode/.local/lib/python3.11/site-packages (from label-studio) (0.40.0)\n",
      "Requirement already satisfied: xmljson==0.2.1 in /home/vscode/.local/lib/python3.11/site-packages (from label-studio) (0.2.1)\n",
      "Requirement already satisfied: six in /home/vscode/.local/lib/python3.11/site-packages (from django-annoying==0.10.6->label-studio) (1.17.0)\n",
      "Requirement already satisfied: asgiref>=3.6 in /home/vscode/.local/lib/python3.11/site-packages (from django-cors-headers==4.7.0->label-studio) (3.9.1)\n",
      "Requirement already satisfied: sqlparse>=0.2.0 in /home/vscode/.local/lib/python3.11/site-packages (from django-debug-toolbar==3.2.1->label-studio) (0.5.3)\n",
      "Requirement already satisfied: user-agents in /home/vscode/.local/lib/python3.11/site-packages (from django-user-agents==0.4.0->label-studio) (2.2.0)\n",
      "Requirement already satisfied: Pillow>=10.0.1 in /home/vscode/.local/lib/python3.11/site-packages (from label-studio-sdk==1.0.18->label-studio) (11.3.0)\n",
      "Requirement already satisfied: datamodel-code-generator==0.26.1 in /home/vscode/.local/lib/python3.11/site-packages (from label-studio-sdk==1.0.18->label-studio) (0.26.1)\n",
      "Requirement already satisfied: httpx>=0.21.2 in /home/vscode/.local/lib/python3.11/site-packages (from label-studio-sdk==1.0.18->label-studio) (0.28.1)\n",
      "Requirement already satisfied: ijson>=3.2.3 in /home/vscode/.local/lib/python3.11/site-packages (from label-studio-sdk==1.0.18->label-studio) (3.4.0)\n",
      "Requirement already satisfied: jsf<0.12.0,>=0.11.2 in /home/vscode/.local/lib/python3.11/site-packages (from label-studio-sdk==1.0.18->label-studio) (0.11.2)\n",
      "Requirement already satisfied: jsonschema>=4.23.0 in /home/vscode/.local/lib/python3.11/site-packages (from label-studio-sdk==1.0.18->label-studio) (4.25.1)\n",
      "Requirement already satisfied: nltk<4.0.0,>=3.9.1 in /home/vscode/.local/lib/python3.11/site-packages (from label-studio-sdk==1.0.18->label-studio) (3.9.1)\n",
      "Requirement already satisfied: opencv-python<5.0.0,>=4.9.0 in /home/vscode/.local/lib/python3.11/site-packages (from label-studio-sdk==1.0.18->label-studio) (4.11.0.86)\n",
      "Requirement already satisfied: pydantic-core<3.0.0,>=2.18.2 in /home/vscode/.local/lib/python3.11/site-packages (from label-studio-sdk==1.0.18->label-studio) (2.33.2)\n",
      "Requirement already satisfied: pyjwt<3.0.0,>=2.10.1 in /home/vscode/.local/lib/python3.11/site-packages (from label-studio-sdk==1.0.18->label-studio) (2.10.1)\n",
      "Requirement already satisfied: requests-mock==1.12.1 in /home/vscode/.local/lib/python3.11/site-packages (from label-studio-sdk==1.0.18->label-studio) (1.12.1)\n",
      "Requirement already satisfied: typing_extensions>=4.0.0 in /home/vscode/.local/lib/python3.11/site-packages (from label-studio-sdk==1.0.18->label-studio) (4.15.0)\n",
      "Requirement already satisfied: argcomplete<4.0,>=1.10 in /home/vscode/.local/lib/python3.11/site-packages (from datamodel-code-generator==0.26.1->label-studio-sdk==1.0.18->label-studio) (3.6.2)\n",
      "Requirement already satisfied: black>=19.10b0 in /home/vscode/.local/lib/python3.11/site-packages (from datamodel-code-generator==0.26.1->label-studio-sdk==1.0.18->label-studio) (25.9.0)\n",
      "Requirement already satisfied: genson<2.0,>=1.2.1 in /home/vscode/.local/lib/python3.11/site-packages (from datamodel-code-generator==0.26.1->label-studio-sdk==1.0.18->label-studio) (1.3.0)\n",
      "Requirement already satisfied: inflect<6.0,>=4.1.0 in /home/vscode/.local/lib/python3.11/site-packages (from datamodel-code-generator==0.26.1->label-studio-sdk==1.0.18->label-studio) (5.6.2)\n",
      "Requirement already satisfied: isort<6.0,>=4.3.21 in /home/vscode/.local/lib/python3.11/site-packages (from datamodel-code-generator==0.26.1->label-studio-sdk==1.0.18->label-studio) (5.13.2)\n",
      "Requirement already satisfied: jinja2<4.0,>=2.10.1 in /home/vscode/.local/lib/python3.11/site-packages (from datamodel-code-generator==0.26.1->label-studio-sdk==1.0.18->label-studio) (3.1.6)\n",
      "Requirement already satisfied: packaging in /home/vscode/.local/lib/python3.11/site-packages (from datamodel-code-generator==0.26.1->label-studio-sdk==1.0.18->label-studio) (25.0)\n",
      "Requirement already satisfied: certifi>=2018.4.16 in /home/vscode/.local/lib/python3.11/site-packages (from launchdarkly-server-sdk==8.2.1->label-studio) (2025.8.3)\n",
      "Requirement already satisfied: expiringdict>=1.1.4 in /home/vscode/.local/lib/python3.11/site-packages (from launchdarkly-server-sdk==8.2.1->label-studio) (1.2.2)\n",
      "Requirement already satisfied: pyRFC3339>=1.0 in /home/vscode/.local/lib/python3.11/site-packages (from launchdarkly-server-sdk==8.2.1->label-studio) (2.1.0)\n",
      "Requirement already satisfied: semver>=2.10.2 in /home/vscode/.local/lib/python3.11/site-packages (from launchdarkly-server-sdk==8.2.1->label-studio) (3.0.4)\n",
      "Requirement already satisfied: webencodings in /home/vscode/.local/lib/python3.11/site-packages (from bleach<5.1.0,>=5.0.0->label-studio) (0.5.1)\n",
      "Requirement already satisfied: jmespath<2.0.0,>=0.7.1 in /home/vscode/.local/lib/python3.11/site-packages (from boto3<2.0.0,>=1.28.58->label-studio) (1.0.1)\n",
      "Requirement already satisfied: s3transfer<0.15.0,>=0.14.0 in /home/vscode/.local/lib/python3.11/site-packages (from boto3<2.0.0,>=1.28.58->label-studio) (0.14.0)\n",
      "Requirement already satisfied: toml>=0.10.2 in /home/vscode/.local/lib/python3.11/site-packages (from django-migration-linter<6.0.0,>=5.1.0->label-studio) (0.10.2)\n",
      "Requirement already satisfied: google-api-core!=2.0.*,!=2.1.*,!=2.10.*,!=2.2.*,!=2.3.*,!=2.4.*,!=2.5.*,!=2.6.*,!=2.7.*,!=2.8.*,!=2.9.*,<3.0.0,>=1.34.1 in /home/vscode/.local/lib/python3.11/site-packages (from google-api-core[grpc]!=2.0.*,!=2.1.*,!=2.10.*,!=2.2.*,!=2.3.*,!=2.4.*,!=2.5.*,!=2.6.*,!=2.7.*,!=2.8.*,!=2.9.*,<3.0.0,>=1.34.1->google-cloud-logging<4.0.0,>=3.10.0->label-studio) (2.25.1)\n",
      "Requirement already satisfied: google-auth!=2.24.0,!=2.25.0,<3.0.0,>=2.14.1 in /home/vscode/.local/lib/python3.11/site-packages (from google-cloud-logging<4.0.0,>=3.10.0->label-studio) (2.40.3)\n",
      "Requirement already satisfied: google-cloud-appengine-logging<2.0.0,>=0.1.3 in /home/vscode/.local/lib/python3.11/site-packages (from google-cloud-logging<4.0.0,>=3.10.0->label-studio) (1.6.2)\n",
      "Requirement already satisfied: google-cloud-audit-log<1.0.0,>=0.3.1 in /home/vscode/.local/lib/python3.11/site-packages (from google-cloud-logging<4.0.0,>=3.10.0->label-studio) (0.3.2)\n",
      "Requirement already satisfied: google-cloud-core<3.0.0,>=2.0.0 in /home/vscode/.local/lib/python3.11/site-packages (from google-cloud-logging<4.0.0,>=3.10.0->label-studio) (2.4.3)\n",
      "Requirement already satisfied: grpc-google-iam-v1<1.0.0,>=0.12.4 in /home/vscode/.local/lib/python3.11/site-packages (from google-cloud-logging<4.0.0,>=3.10.0->label-studio) (0.14.2)\n",
      "Requirement already satisfied: opentelemetry-api>=1.9.0 in /home/vscode/.local/lib/python3.11/site-packages (from google-cloud-logging<4.0.0,>=3.10.0->label-studio) (1.37.0)\n",
      "Requirement already satisfied: proto-plus<2.0.0,>=1.22.0 in /home/vscode/.local/lib/python3.11/site-packages (from google-cloud-logging<4.0.0,>=3.10.0->label-studio) (1.26.1)\n",
      "Requirement already satisfied: protobuf!=4.21.0,!=4.21.1,!=4.21.2,!=4.21.3,!=4.21.4,!=4.21.5,<7.0.0,>=3.20.2 in /home/vscode/.local/lib/python3.11/site-packages (from google-cloud-logging<4.0.0,>=3.10.0->label-studio) (6.32.1)\n",
      "Requirement already satisfied: googleapis-common-protos<2.0.0,>=1.56.2 in /home/vscode/.local/lib/python3.11/site-packages (from google-api-core!=2.0.*,!=2.1.*,!=2.10.*,!=2.2.*,!=2.3.*,!=2.4.*,!=2.5.*,!=2.6.*,!=2.7.*,!=2.8.*,!=2.9.*,<3.0.0,>=1.34.1->google-api-core[grpc]!=2.0.*,!=2.1.*,!=2.10.*,!=2.2.*,!=2.3.*,!=2.4.*,!=2.5.*,!=2.6.*,!=2.7.*,!=2.8.*,!=2.9.*,<3.0.0,>=1.34.1->google-cloud-logging<4.0.0,>=3.10.0->label-studio) (1.70.0)\n",
      "Requirement already satisfied: grpcio<2.0.0,>=1.33.2 in /home/vscode/.local/lib/python3.11/site-packages (from google-api-core[grpc]!=2.0.*,!=2.1.*,!=2.10.*,!=2.2.*,!=2.3.*,!=2.4.*,!=2.5.*,!=2.6.*,!=2.7.*,!=2.8.*,!=2.9.*,<3.0.0,>=1.34.1->google-cloud-logging<4.0.0,>=3.10.0->label-studio) (1.75.0)\n",
      "Requirement already satisfied: grpcio-status<2.0.0,>=1.33.2 in /home/vscode/.local/lib/python3.11/site-packages (from google-api-core[grpc]!=2.0.*,!=2.1.*,!=2.10.*,!=2.2.*,!=2.3.*,!=2.4.*,!=2.5.*,!=2.6.*,!=2.7.*,!=2.8.*,!=2.9.*,<3.0.0,>=1.34.1->google-cloud-logging<4.0.0,>=3.10.0->label-studio) (1.75.0)\n",
      "Requirement already satisfied: cachetools<6.0,>=2.0.0 in /home/vscode/.local/lib/python3.11/site-packages (from google-auth!=2.24.0,!=2.25.0,<3.0.0,>=2.14.1->google-cloud-logging<4.0.0,>=3.10.0->label-studio) (5.5.2)\n",
      "Requirement already satisfied: pyasn1-modules>=0.2.1 in /home/vscode/.local/lib/python3.11/site-packages (from google-auth!=2.24.0,!=2.25.0,<3.0.0,>=2.14.1->google-cloud-logging<4.0.0,>=3.10.0->label-studio) (0.4.2)\n",
      "Requirement already satisfied: rsa<5,>=3.1.4 in /home/vscode/.local/lib/python3.11/site-packages (from google-auth!=2.24.0,!=2.25.0,<3.0.0,>=2.14.1->google-cloud-logging<4.0.0,>=3.10.0->label-studio) (4.9.1)\n",
      "Requirement already satisfied: google-resumable-media>=2.7.2 in /home/vscode/.local/lib/python3.11/site-packages (from google-cloud-storage<3.0.0,>=2.13.0->label-studio) (2.7.2)\n",
      "Requirement already satisfied: google-crc32c<2.0dev,>=1.0 in /home/vscode/.local/lib/python3.11/site-packages (from google-cloud-storage<3.0.0,>=2.13.0->label-studio) (1.7.1)\n",
      "Requirement already satisfied: MarkupSafe>=2.0 in /home/vscode/.local/lib/python3.11/site-packages (from jinja2<4.0,>=2.10.1->datamodel-code-generator==0.26.1->label-studio-sdk==1.0.18->label-studio) (3.0.2)\n",
      "Requirement already satisfied: faker>=15.3.4 in /home/vscode/.local/lib/python3.11/site-packages (from jsf<0.12.0,>=0.11.2->label-studio-sdk==1.0.18->label-studio) (37.8.0)\n",
      "Requirement already satisfied: rstr>=3.2.0 in /home/vscode/.local/lib/python3.11/site-packages (from jsf<0.12.0,>=0.11.2->label-studio-sdk==1.0.18->label-studio) (3.2.2)\n",
      "Requirement already satisfied: smart-open>=6.3.0 in /home/vscode/.local/lib/python3.11/site-packages (from smart-open[http]>=6.3.0->jsf<0.12.0,>=0.11.2->label-studio-sdk==1.0.18->label-studio) (7.3.1)\n",
      "Requirement already satisfied: click in /home/vscode/.local/lib/python3.11/site-packages (from nltk<4.0.0,>=3.9.1->label-studio-sdk==1.0.18->label-studio) (8.3.0)\n",
      "Requirement already satisfied: joblib in /home/vscode/.local/lib/python3.11/site-packages (from nltk<4.0.0,>=3.9.1->label-studio-sdk==1.0.18->label-studio) (1.5.2)\n",
      "Requirement already satisfied: regex>=2021.8.3 in /home/vscode/.local/lib/python3.11/site-packages (from nltk<4.0.0,>=3.9.1->label-studio-sdk==1.0.18->label-studio) (2025.9.18)\n",
      "Requirement already satisfied: tqdm in /home/vscode/.local/lib/python3.11/site-packages (from nltk<4.0.0,>=3.9.1->label-studio-sdk==1.0.18->label-studio) (4.67.1)\n",
      "Requirement already satisfied: anyio<5,>=3.5.0 in /home/vscode/.local/lib/python3.11/site-packages (from openai<2.0.0,>=1.10.0->label-studio) (4.10.0)\n",
      "Requirement already satisfied: distro<2,>=1.7.0 in /home/vscode/.local/lib/python3.11/site-packages (from openai<2.0.0,>=1.10.0->label-studio) (1.9.0)\n",
      "Requirement already satisfied: jiter<1,>=0.4.0 in /home/vscode/.local/lib/python3.11/site-packages (from openai<2.0.0,>=1.10.0->label-studio) (0.11.0)\n",
      "Requirement already satisfied: sniffio in /home/vscode/.local/lib/python3.11/site-packages (from openai<2.0.0,>=1.10.0->label-studio) (1.3.1)\n",
      "Requirement already satisfied: idna>=2.8 in /home/vscode/.local/lib/python3.11/site-packages (from anyio<5,>=3.5.0->openai<2.0.0,>=1.10.0->label-studio) (3.10)\n",
      "Requirement already satisfied: httpcore==1.* in /home/vscode/.local/lib/python3.11/site-packages (from httpx>=0.21.2->label-studio-sdk==1.0.18->label-studio) (1.0.9)\n",
      "Requirement already satisfied: h11>=0.16 in /home/vscode/.local/lib/python3.11/site-packages (from httpcore==1.*->httpx>=0.21.2->label-studio-sdk==1.0.18->label-studio) (0.16.0)\n",
      "Requirement already satisfied: annotated-types>=0.6.0 in /home/vscode/.local/lib/python3.11/site-packages (from pydantic>=2.9.2->label-studio) (0.7.0)\n",
      "Requirement already satisfied: typing-inspection>=0.4.0 in /home/vscode/.local/lib/python3.11/site-packages (from pydantic>=2.9.2->label-studio) (0.4.1)\n",
      "Requirement already satisfied: email-validator>=2.0.0 in /home/vscode/.local/lib/python3.11/site-packages (from pydantic[email]!=2.4.0,<3.0,>=1.10.0; python_version >= \"3.11\" and python_version < \"4.0\"->datamodel-code-generator==0.26.1->label-studio-sdk==1.0.18->label-studio) (2.3.0)\n",
      "Requirement already satisfied: charset_normalizer<4,>=2 in /home/vscode/.local/lib/python3.11/site-packages (from requests<2.33.0,>=2.32.3->label-studio) (3.4.3)\n",
      "Requirement already satisfied: pyasn1>=0.1.3 in /home/vscode/.local/lib/python3.11/site-packages (from rsa<5,>=3.1.4->google-auth!=2.24.0,!=2.25.0,<3.0.0,>=2.14.1->google-cloud-logging<4.0.0,>=3.10.0->label-studio) (0.6.1)\n",
      "Requirement already satisfied: azure-core>=1.30.0 in /home/vscode/.local/lib/python3.11/site-packages (from azure-storage-blob>=12.6.0->label-studio) (1.35.1)\n",
      "Requirement already satisfied: isodate>=0.6.1 in /home/vscode/.local/lib/python3.11/site-packages (from azure-storage-blob>=12.6.0->label-studio) (0.7.2)\n",
      "Requirement already satisfied: mypy-extensions>=0.4.3 in /home/vscode/.local/lib/python3.11/site-packages (from black>=19.10b0->datamodel-code-generator==0.26.1->label-studio-sdk==1.0.18->label-studio) (1.1.0)\n",
      "Requirement already satisfied: pathspec>=0.9.0 in /home/vscode/.local/lib/python3.11/site-packages (from black>=19.10b0->datamodel-code-generator==0.26.1->label-studio-sdk==1.0.18->label-studio) (0.12.1)\n",
      "Requirement already satisfied: platformdirs>=2 in /home/vscode/.local/lib/python3.11/site-packages (from black>=19.10b0->datamodel-code-generator==0.26.1->label-studio-sdk==1.0.18->label-studio) (4.4.0)\n",
      "Requirement already satisfied: pytokens>=0.1.10 in /home/vscode/.local/lib/python3.11/site-packages (from black>=19.10b0->datamodel-code-generator==0.26.1->label-studio-sdk==1.0.18->label-studio) (0.1.10)\n",
      "Requirement already satisfied: cffi>=2.0.0 in /home/vscode/.local/lib/python3.11/site-packages (from cryptography>=44.0.1->label-studio) (2.0.0)\n",
      "Requirement already satisfied: pycparser in /home/vscode/.local/lib/python3.11/site-packages (from cffi>=2.0.0->cryptography>=44.0.1->label-studio) (2.23)\n",
      "Requirement already satisfied: dnspython>=2.0.0 in /home/vscode/.local/lib/python3.11/site-packages (from email-validator>=2.0.0->pydantic[email]!=2.4.0,<3.0,>=1.10.0; python_version >= \"3.11\" and python_version < \"4.0\"->datamodel-code-generator==0.26.1->label-studio-sdk==1.0.18->label-studio) (2.8.0)\n",
      "Requirement already satisfied: tzdata in /home/vscode/.local/lib/python3.11/site-packages (from faker>=15.3.4->jsf<0.12.0,>=0.11.2->label-studio-sdk==1.0.18->label-studio) (2025.2)\n",
      "Requirement already satisfied: inflection>=0.3.1 in /home/vscode/.local/lib/python3.11/site-packages (from humansignal-drf-yasg>=1.21.10.post1->label-studio) (0.5.1)\n",
      "Requirement already satisfied: uritemplate>=3.0.0 in /home/vscode/.local/lib/python3.11/site-packages (from humansignal-drf-yasg>=1.21.10.post1->label-studio) (4.2.0)\n",
      "Requirement already satisfied: jsonschema-specifications>=2023.03.6 in /home/vscode/.local/lib/python3.11/site-packages (from jsonschema>=4.23.0->label-studio-sdk==1.0.18->label-studio) (2025.9.1)\n",
      "Requirement already satisfied: referencing>=0.28.4 in /home/vscode/.local/lib/python3.11/site-packages (from jsonschema>=4.23.0->label-studio-sdk==1.0.18->label-studio) (0.36.2)\n",
      "Requirement already satisfied: rpds-py>=0.7.1 in /home/vscode/.local/lib/python3.11/site-packages (from jsonschema>=4.23.0->label-studio-sdk==1.0.18->label-studio) (0.27.1)\n",
      "Requirement already satisfied: lxml_html_clean in /home/vscode/.local/lib/python3.11/site-packages (from lxml[html-clean]>=4.9.4->label-studio) (0.4.2)\n",
      "Requirement already satisfied: importlib-metadata<8.8.0,>=6.0 in /home/vscode/.local/lib/python3.11/site-packages (from opentelemetry-api>=1.9.0->google-cloud-logging<4.0.0,>=3.10.0->label-studio) (8.7.0)\n",
      "Requirement already satisfied: zipp>=3.20 in /home/vscode/.local/lib/python3.11/site-packages (from importlib-metadata<8.8.0,>=6.0->opentelemetry-api>=1.9.0->google-cloud-logging<4.0.0,>=3.10.0->label-studio) (3.23.0)\n",
      "Requirement already satisfied: rich>=12.5.1 in /home/vscode/.local/lib/python3.11/site-packages (from pyboxen>=1.3.0->label-studio) (14.1.0)\n",
      "Requirement already satisfied: markdown-it-py>=2.2.0 in /home/vscode/.local/lib/python3.11/site-packages (from rich>=12.5.1->pyboxen>=1.3.0->label-studio) (4.0.0)\n",
      "Requirement already satisfied: pygments<3.0.0,>=2.13.0 in /home/vscode/.local/lib/python3.11/site-packages (from rich>=12.5.1->pyboxen>=1.3.0->label-studio) (2.19.2)\n",
      "Requirement already satisfied: mdurl~=0.1 in /home/vscode/.local/lib/python3.11/site-packages (from markdown-it-py>=2.2.0->rich>=12.5.1->pyboxen>=1.3.0->label-studio) (0.1.2)\n",
      "Requirement already satisfied: wrapt in /home/vscode/.local/lib/python3.11/site-packages (from smart-open>=6.3.0->smart-open[http]>=6.3.0->jsf<0.12.0,>=0.11.2->label-studio-sdk==1.0.18->label-studio) (1.17.3)\n",
      "Requirement already satisfied: requests-file>=1.4 in /home/vscode/.local/lib/python3.11/site-packages (from tldextract>=5.1.3->label-studio) (2.1.0)\n",
      "Requirement already satisfied: filelock>=3.0.8 in /home/vscode/.local/lib/python3.11/site-packages (from tldextract>=5.1.3->label-studio) (3.19.1)\n",
      "Requirement already satisfied: ua-parser>=0.10.0 in /home/vscode/.local/lib/python3.11/site-packages (from user-agents->django-user-agents==0.4.0->label-studio) (1.0.1)\n",
      "Requirement already satisfied: ua-parser-builtins in /home/vscode/.local/lib/python3.11/site-packages (from ua-parser>=0.10.0->user-agents->django-user-agents==0.4.0->label-studio) (0.18.0.post1)\n",
      "Note: you may need to restart the kernel to use updated packages.\n"
     ]
    }
   ],
   "source": [
    "pip install label-studio"
   ]
  },
  {
   "cell_type": "code",
   "execution_count": 15,
   "id": "0b8b9d17",
   "metadata": {},
   "outputs": [],
   "source": [
    "token = \"361b804e65dccf422c70d47e5e91447f38110ed1\""
   ]
  },
  {
   "cell_type": "code",
   "execution_count": 28,
   "id": "8e59afea",
   "metadata": {},
   "outputs": [],
   "source": [
    "link = \"https://refactored-zebra-974jqx7666qx3xwwg-8080.app.github.dev\""
   ]
  },
  {
   "cell_type": "code",
   "execution_count": 29,
   "id": "71200dcd",
   "metadata": {},
   "outputs": [
    {
     "name": "stdout",
     "output_type": "stream",
     "text": [
      "Project ID: 5 | Title: CIHR\n"
     ]
    }
   ],
   "source": [
    "from label_studio_sdk import Client\n",
    "\n",
    "# Connect to your Label Studio instance\n",
    "ls = Client(\n",
    "    url=link,\n",
    "    api_key=token       \n",
    ")\n",
    "\n",
    "# Fetch all projects\n",
    "projects = ls.get_projects()\n",
    "\n",
    "# Extract IDs and titles\n",
    "project_list = [(p.id, p.title) for p in projects]\n",
    "\n",
    "# Print them\n",
    "for pid, title in project_list:\n",
    "    print(f\"Project ID: {pid} | Title: {title}\")\n"
   ]
  },
  {
   "cell_type": "code",
   "execution_count": 30,
   "id": "ff8dc754",
   "metadata": {},
   "outputs": [
    {
     "name": "stdout",
     "output_type": "stream",
     "text": [
      "[<label_studio_sdk._legacy.project.Project object at 0x7120376471d0>]\n"
     ]
    }
   ],
   "source": [
    "from label_studio_sdk import Client\n",
    "\n",
    "ls = Client(\n",
    "    url=\"https://refactored-zebra-974jqx7666qx3xwwg-8080.app.github.dev\",\n",
    "    api_key=token\n",
    ")\n",
    "\n",
    "# Test the connection\n",
    "print(ls.get_projects())\n"
   ]
  },
  {
   "cell_type": "code",
   "execution_count": 31,
   "id": "f2bf3fc0",
   "metadata": {},
   "outputs": [
    {
     "name": "stdout",
     "output_type": "stream",
     "text": [
      "ID: 5, Title: CIHR\n"
     ]
    }
   ],
   "source": [
    "projects = ls.get_projects()\n",
    "for p in projects:\n",
    "    print(f\"ID: {p.id}, Title: {p.title}\")\n"
   ]
  },
  {
   "cell_type": "code",
   "execution_count": 32,
   "id": "ba71e986",
   "metadata": {},
   "outputs": [],
   "source": [
    "project = ls.get_project(5)"
   ]
  },
  {
   "cell_type": "code",
   "execution_count": 33,
   "id": "10a12d48",
   "metadata": {},
   "outputs": [
    {
     "name": "stdout",
     "output_type": "stream",
     "text": [
      "Total tasks: 6094\n"
     ]
    }
   ],
   "source": [
    "tasks = project.get_tasks()\n",
    "print(f\"Total tasks: {len(tasks)}\")"
   ]
  },
  {
   "cell_type": "code",
   "execution_count": null,
   "id": "757f3201",
   "metadata": {},
   "outputs": [],
   "source": [
    "import json\n",
    "\n",
    "with open(\"label_studio_export.json\", \"w\", encoding=\"utf-8\") as f:\n",
    "    json.dump(tasks, f, ensure_ascii=False, indent=4)"
   ]
  },
  {
   "cell_type": "code",
   "execution_count": null,
   "id": "bd0e02cd",
   "metadata": {},
   "outputs": [],
   "source": [
    "spacy_data = []\n",
    "\n",
    "for task in tasks:\n",
    "    text = task['data']['text']  # adjust if your text field has a different key\n",
    "    entities = []\n",
    "    for annotation in task.get('annotations', []):\n",
    "        for result in annotation['result']:\n",
    "            if result['type'] == 'labels':\n",
    "                start = result['value']['start']\n",
    "                end = result['value']['end']\n",
    "                label = result['value']['labels'][0]\n",
    "                entities.append((start, end, label))\n",
    "    spacy_data.append((text, {\"entities\": entities}))\n",
    "\n",
    "# Save to a JSON for spaCy\n",
    "with open(\"spacy_training_data.json\", \"w\", encoding=\"utf-8\") as f:\n",
    "    json.dump(spacy_data, f, ensure_ascii=False, indent=4)\n"
   ]
  }
 ],
 "metadata": {
  "kernelspec": {
   "display_name": "Python 3",
   "language": "python",
   "name": "python3"
  },
  "language_info": {
   "codemirror_mode": {
    "name": "ipython",
    "version": 3
   },
   "file_extension": ".py",
   "mimetype": "text/x-python",
   "name": "python",
   "nbconvert_exporter": "python",
   "pygments_lexer": "ipython3",
   "version": "3.11.13"
  }
 },
 "nbformat": 4,
 "nbformat_minor": 5
}
